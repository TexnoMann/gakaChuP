{
 "cells": [
  {
   "cell_type": "code",
   "execution_count": 1,
   "metadata": {},
   "outputs": [
    {
     "name": "stdout",
     "output_type": "stream",
     "text": [
      "InstaPy Version: 0.6.6\n",
      " ._.  ._.  ._.  ._.  ._.  ._.  ._.  ._.  ._. \n",
      "Workspace in use: \"/home/texnoman/InstaPy\"\n"
     ]
    },
    {
     "name": "stderr",
     "output_type": "stream",
     "text": [
      "2335kb [00:01, 1186.99kb/s]                         \n",
      "INFO [2019-11-26 20:14:01] [gakachup]  Session started!\n",
      "INFO [2019-11-26 20:14:01] [gakachup]  -- Connection Checklist [1/3] (Internet Connection Status)\n"
     ]
    },
    {
     "name": "stdout",
     "output_type": "stream",
     "text": [
      "OOOOOOOOOOOOOOOOOOOOOOOOOOOOOOOOOOOOOOOOOOOOOOOOOOOOOO\n",
      "oooooooooooooooooooooooooooooooooooooooooooooooooooooo\n"
     ]
    },
    {
     "name": "stderr",
     "output_type": "stream",
     "text": [
      "INFO [2019-11-26 20:14:03] [gakachup]  - Internet Connection Status: ok\n",
      "INFO [2019-11-26 20:14:03] [gakachup]  - Current IP is \"77.234.215.110\" and it's from \"Russian Federation/RU\"\n",
      "INFO [2019-11-26 20:14:03] [gakachup]  -- Connection Checklist [2/3] (Instagram Server Status)\n",
      "INFO [2019-11-26 20:14:08] [gakachup]  - Instagram WebSite Status: Currently Up \n",
      "INFO [2019-11-26 20:14:08] [gakachup]  - Instagram Response Time: 137.853 ms \n",
      "INFO [2019-11-26 20:14:08] [gakachup]  - Instagram Reponse Code: 200\n",
      "INFO [2019-11-26 20:14:08] [gakachup]  - Instagram Server Status: ok\n",
      "INFO [2019-11-26 20:14:08] [gakachup]  -- Connection Checklist [3/3] (Hide Selenium Extension)\n",
      "INFO [2019-11-26 20:14:08] [gakachup]  - window.navigator.webdriver response: False\n",
      "INFO [2019-11-26 20:14:08] [gakachup]  - Hide Selenium Extension: ok\n"
     ]
    },
    {
     "name": "stdout",
     "output_type": "stream",
     "text": [
      "Cookie file not found, creating cookie...\n"
     ]
    },
    {
     "name": "stderr",
     "output_type": "stream",
     "text": [
      "INFO [2019-11-26 20:14:38] [gakachup]  Logged in successfully!\n",
      "INFO [2019-11-26 20:14:38] [gakachup]  Saving account progress...\n"
     ]
    },
    {
     "name": "stdout",
     "output_type": "stream",
     "text": [
      "..............................................................\n",
      "''''''''''''''''''''''''''''''''''''''''''''''''''''''''''''''\n"
     ]
    },
    {
     "name": "stderr",
     "output_type": "stream",
     "text": [
      "INFO [2019-11-26 20:14:52] [gakachup]  Tag [1/1]\n",
      "INFO [2019-11-26 20:14:52] [gakachup]  --> b'natgeo'\n",
      "ERROR [2019-11-26 20:14:52] [gakachup]  Error occurred while deleting cookies from web browser!\n",
      "\tb'Message: Tried to run command without establishing a connection\\n'\n",
      "Traceback (most recent call last):\n",
      "  File \"/home/texnoman/.local/lib/python3.6/site-packages/instapy/util.py\", line 1840, in smart_run\n",
      "    yield\n",
      "  File \"<ipython-input-1-627933e5916d>\", line 27, in <module>\n",
      "    session.like_by_tags([\"natgeo\"], amount=10)\n",
      "  File \"/home/texnoman/.local/lib/python3.6/site-packages/instapy/instapy.py\", line 1896, in like_by_tags\n",
      "    self.logger,\n",
      "  File \"/home/texnoman/.local/lib/python3.6/site-packages/instapy/like_util.py\", line 258, in get_links_for_tag\n",
      "    web_address_navigator(browser, tag_link)\n",
      "  File \"/home/texnoman/.local/lib/python3.6/site-packages/instapy/util.py\", line 1184, in web_address_navigator\n",
      "    browser.get(link)\n",
      "  File \"/home/texnoman/.local/lib/python3.6/site-packages/selenium/webdriver/remote/webdriver.py\", line 333, in get\n",
      "    self.execute(Command.GET, {'url': url})\n",
      "  File \"/home/texnoman/.local/lib/python3.6/site-packages/selenium/webdriver/remote/webdriver.py\", line 321, in execute\n",
      "    self.error_handler.check_response(response)\n",
      "  File \"/home/texnoman/.local/lib/python3.6/site-packages/selenium/webdriver/remote/errorhandler.py\", line 242, in check_response\n",
      "    raise exception_class(message, screen, stacktrace)\n",
      "selenium.common.exceptions.InvalidSessionIdException: Message: Tried to run command without establishing a connection\n",
      "\n",
      "\n",
      "During handling of the above exception, another exception occurred:\n",
      "\n",
      "Traceback (most recent call last):\n",
      "  File \"/home/texnoman/.local/lib/python3.6/site-packages/instapy/browser.py\", line 167, in close_browser\n",
      "    browser.delete_all_cookies()\n",
      "  File \"/home/texnoman/.local/lib/python3.6/site-packages/selenium/webdriver/remote/webdriver.py\", line 878, in delete_all_cookies\n",
      "    self.execute(Command.DELETE_ALL_COOKIES)\n",
      "  File \"/home/texnoman/.local/lib/python3.6/site-packages/selenium/webdriver/remote/webdriver.py\", line 321, in execute\n",
      "    self.error_handler.check_response(response)\n",
      "  File \"/home/texnoman/.local/lib/python3.6/site-packages/selenium/webdriver/remote/errorhandler.py\", line 242, in check_response\n",
      "    raise exception_class(message, screen, stacktrace)\n",
      "selenium.common.exceptions.InvalidSessionIdException: Message: Tried to run command without establishing a connection\n",
      "\n",
      "INFO [2019-11-26 20:14:52] [gakachup]  Sessional Live Report:\n",
      "\t|> No any statistics to show\n",
      "\n",
      "\n",
      "[Session lasted 1.03 minutes]\n",
      "INFO [2019-11-26 20:14:52] [gakachup]  Session ended!\n"
     ]
    },
    {
     "name": "stdout",
     "output_type": "stream",
     "text": [
      "\n",
      "OOOOOOOOOOOOOOOOOOOOOOOOOOOOOOOOOOOOOOOOOOOOOOOOOOOOO\n",
      "ooooooooooooooooooooooooooooooooooooooooooooooooooooo\n",
      "\n",
      "\n",
      "\n"
     ]
    },
    {
     "ename": "InvalidSessionIdException",
     "evalue": "Message: Tried to run command without establishing a connection\n",
     "output_type": "error",
     "traceback": [
      "\u001b[0;31m---------------------------------------------------------------------------\u001b[0m",
      "\u001b[0;31mInvalidSessionIdException\u001b[0m                 Traceback (most recent call last)",
      "\u001b[0;32m<ipython-input-1-627933e5916d>\u001b[0m in \u001b[0;36m<module>\u001b[0;34m\u001b[0m\n\u001b[1;32m     25\u001b[0m \u001b[0;34m\u001b[0m\u001b[0m\n\u001b[1;32m     26\u001b[0m     \u001b[0;31m# activity\u001b[0m\u001b[0;34m\u001b[0m\u001b[0;34m\u001b[0m\u001b[0;34m\u001b[0m\u001b[0m\n\u001b[0;32m---> 27\u001b[0;31m     \u001b[0msession\u001b[0m\u001b[0;34m.\u001b[0m\u001b[0mlike_by_tags\u001b[0m\u001b[0;34m(\u001b[0m\u001b[0;34m[\u001b[0m\u001b[0;34m\"natgeo\"\u001b[0m\u001b[0;34m]\u001b[0m\u001b[0;34m,\u001b[0m \u001b[0mamount\u001b[0m\u001b[0;34m=\u001b[0m\u001b[0;36m10\u001b[0m\u001b[0;34m)\u001b[0m\u001b[0;34m\u001b[0m\u001b[0;34m\u001b[0m\u001b[0m\n\u001b[0m",
      "\u001b[0;32m~/.local/lib/python3.6/site-packages/instapy/instapy.py\u001b[0m in \u001b[0;36mlike_by_tags\u001b[0;34m(self, tags, amount, skip_top_posts, use_smart_hashtags, use_smart_location_hashtags, interact, randomize, media)\u001b[0m\n\u001b[1;32m   1894\u001b[0m                     \u001b[0mrandomize\u001b[0m\u001b[0;34m,\u001b[0m\u001b[0;34m\u001b[0m\u001b[0;34m\u001b[0m\u001b[0m\n\u001b[1;32m   1895\u001b[0m                     \u001b[0mmedia\u001b[0m\u001b[0;34m,\u001b[0m\u001b[0;34m\u001b[0m\u001b[0;34m\u001b[0m\u001b[0m\n\u001b[0;32m-> 1896\u001b[0;31m                     \u001b[0mself\u001b[0m\u001b[0;34m.\u001b[0m\u001b[0mlogger\u001b[0m\u001b[0;34m,\u001b[0m\u001b[0;34m\u001b[0m\u001b[0;34m\u001b[0m\u001b[0m\n\u001b[0m\u001b[1;32m   1897\u001b[0m                 )\n\u001b[1;32m   1898\u001b[0m             \u001b[0;32mexcept\u001b[0m \u001b[0mNoSuchElementException\u001b[0m\u001b[0;34m:\u001b[0m\u001b[0;34m\u001b[0m\u001b[0;34m\u001b[0m\u001b[0m\n",
      "\u001b[0;32m~/.local/lib/python3.6/site-packages/instapy/like_util.py\u001b[0m in \u001b[0;36mget_links_for_tag\u001b[0;34m(browser, tag, amount, skip_top_posts, randomize, media, logger)\u001b[0m\n\u001b[1;32m    256\u001b[0m \u001b[0;34m\u001b[0m\u001b[0m\n\u001b[1;32m    257\u001b[0m     \u001b[0mtag_link\u001b[0m \u001b[0;34m=\u001b[0m \u001b[0;34m\"https://www.instagram.com/explore/tags/{}\"\u001b[0m\u001b[0;34m.\u001b[0m\u001b[0mformat\u001b[0m\u001b[0;34m(\u001b[0m\u001b[0mtag\u001b[0m\u001b[0;34m)\u001b[0m\u001b[0;34m\u001b[0m\u001b[0;34m\u001b[0m\u001b[0m\n\u001b[0;32m--> 258\u001b[0;31m     \u001b[0mweb_address_navigator\u001b[0m\u001b[0;34m(\u001b[0m\u001b[0mbrowser\u001b[0m\u001b[0;34m,\u001b[0m \u001b[0mtag_link\u001b[0m\u001b[0;34m)\u001b[0m\u001b[0;34m\u001b[0m\u001b[0;34m\u001b[0m\u001b[0m\n\u001b[0m\u001b[1;32m    259\u001b[0m \u001b[0;34m\u001b[0m\u001b[0m\n\u001b[1;32m    260\u001b[0m     top_elements = browser.find_element_by_xpath(\n",
      "\u001b[0;32m~/.local/lib/python3.6/site-packages/instapy/util.py\u001b[0m in \u001b[0;36mweb_address_navigator\u001b[0;34m(browser, link)\u001b[0m\n\u001b[1;32m   1182\u001b[0m         \u001b[0;32mwhile\u001b[0m \u001b[0;32mTrue\u001b[0m\u001b[0;34m:\u001b[0m\u001b[0;34m\u001b[0m\u001b[0;34m\u001b[0m\u001b[0m\n\u001b[1;32m   1183\u001b[0m             \u001b[0;32mtry\u001b[0m\u001b[0;34m:\u001b[0m\u001b[0;34m\u001b[0m\u001b[0;34m\u001b[0m\u001b[0m\n\u001b[0;32m-> 1184\u001b[0;31m                 \u001b[0mbrowser\u001b[0m\u001b[0;34m.\u001b[0m\u001b[0mget\u001b[0m\u001b[0;34m(\u001b[0m\u001b[0mlink\u001b[0m\u001b[0;34m)\u001b[0m\u001b[0;34m\u001b[0m\u001b[0;34m\u001b[0m\u001b[0m\n\u001b[0m\u001b[1;32m   1185\u001b[0m                 \u001b[0;31m# update server calls\u001b[0m\u001b[0;34m\u001b[0m\u001b[0;34m\u001b[0m\u001b[0;34m\u001b[0m\u001b[0m\n\u001b[1;32m   1186\u001b[0m                 \u001b[0mupdate_activity\u001b[0m\u001b[0;34m(\u001b[0m\u001b[0mbrowser\u001b[0m\u001b[0;34m,\u001b[0m \u001b[0mstate\u001b[0m\u001b[0;34m=\u001b[0m\u001b[0;32mNone\u001b[0m\u001b[0;34m)\u001b[0m\u001b[0;34m\u001b[0m\u001b[0;34m\u001b[0m\u001b[0m\n",
      "\u001b[0;32m~/.local/lib/python3.6/site-packages/selenium/webdriver/remote/webdriver.py\u001b[0m in \u001b[0;36mget\u001b[0;34m(self, url)\u001b[0m\n\u001b[1;32m    331\u001b[0m         \u001b[0mLoads\u001b[0m \u001b[0ma\u001b[0m \u001b[0mweb\u001b[0m \u001b[0mpage\u001b[0m \u001b[0;32min\u001b[0m \u001b[0mthe\u001b[0m \u001b[0mcurrent\u001b[0m \u001b[0mbrowser\u001b[0m \u001b[0msession\u001b[0m\u001b[0;34m.\u001b[0m\u001b[0;34m\u001b[0m\u001b[0;34m\u001b[0m\u001b[0m\n\u001b[1;32m    332\u001b[0m         \"\"\"\n\u001b[0;32m--> 333\u001b[0;31m         \u001b[0mself\u001b[0m\u001b[0;34m.\u001b[0m\u001b[0mexecute\u001b[0m\u001b[0;34m(\u001b[0m\u001b[0mCommand\u001b[0m\u001b[0;34m.\u001b[0m\u001b[0mGET\u001b[0m\u001b[0;34m,\u001b[0m \u001b[0;34m{\u001b[0m\u001b[0;34m'url'\u001b[0m\u001b[0;34m:\u001b[0m \u001b[0murl\u001b[0m\u001b[0;34m}\u001b[0m\u001b[0;34m)\u001b[0m\u001b[0;34m\u001b[0m\u001b[0;34m\u001b[0m\u001b[0m\n\u001b[0m\u001b[1;32m    334\u001b[0m \u001b[0;34m\u001b[0m\u001b[0m\n\u001b[1;32m    335\u001b[0m     \u001b[0;34m@\u001b[0m\u001b[0mproperty\u001b[0m\u001b[0;34m\u001b[0m\u001b[0;34m\u001b[0m\u001b[0m\n",
      "\u001b[0;32m~/.local/lib/python3.6/site-packages/selenium/webdriver/remote/webdriver.py\u001b[0m in \u001b[0;36mexecute\u001b[0;34m(self, driver_command, params)\u001b[0m\n\u001b[1;32m    319\u001b[0m         \u001b[0mresponse\u001b[0m \u001b[0;34m=\u001b[0m \u001b[0mself\u001b[0m\u001b[0;34m.\u001b[0m\u001b[0mcommand_executor\u001b[0m\u001b[0;34m.\u001b[0m\u001b[0mexecute\u001b[0m\u001b[0;34m(\u001b[0m\u001b[0mdriver_command\u001b[0m\u001b[0;34m,\u001b[0m \u001b[0mparams\u001b[0m\u001b[0;34m)\u001b[0m\u001b[0;34m\u001b[0m\u001b[0;34m\u001b[0m\u001b[0m\n\u001b[1;32m    320\u001b[0m         \u001b[0;32mif\u001b[0m \u001b[0mresponse\u001b[0m\u001b[0;34m:\u001b[0m\u001b[0;34m\u001b[0m\u001b[0;34m\u001b[0m\u001b[0m\n\u001b[0;32m--> 321\u001b[0;31m             \u001b[0mself\u001b[0m\u001b[0;34m.\u001b[0m\u001b[0merror_handler\u001b[0m\u001b[0;34m.\u001b[0m\u001b[0mcheck_response\u001b[0m\u001b[0;34m(\u001b[0m\u001b[0mresponse\u001b[0m\u001b[0;34m)\u001b[0m\u001b[0;34m\u001b[0m\u001b[0;34m\u001b[0m\u001b[0m\n\u001b[0m\u001b[1;32m    322\u001b[0m             response['value'] = self._unwrap_value(\n\u001b[1;32m    323\u001b[0m                 response.get('value', None))\n",
      "\u001b[0;32m~/.local/lib/python3.6/site-packages/selenium/webdriver/remote/errorhandler.py\u001b[0m in \u001b[0;36mcheck_response\u001b[0;34m(self, response)\u001b[0m\n\u001b[1;32m    240\u001b[0m                 \u001b[0malert_text\u001b[0m \u001b[0;34m=\u001b[0m \u001b[0mvalue\u001b[0m\u001b[0;34m[\u001b[0m\u001b[0;34m'alert'\u001b[0m\u001b[0;34m]\u001b[0m\u001b[0;34m.\u001b[0m\u001b[0mget\u001b[0m\u001b[0;34m(\u001b[0m\u001b[0;34m'text'\u001b[0m\u001b[0;34m)\u001b[0m\u001b[0;34m\u001b[0m\u001b[0;34m\u001b[0m\u001b[0m\n\u001b[1;32m    241\u001b[0m             \u001b[0;32mraise\u001b[0m \u001b[0mexception_class\u001b[0m\u001b[0;34m(\u001b[0m\u001b[0mmessage\u001b[0m\u001b[0;34m,\u001b[0m \u001b[0mscreen\u001b[0m\u001b[0;34m,\u001b[0m \u001b[0mstacktrace\u001b[0m\u001b[0;34m,\u001b[0m \u001b[0malert_text\u001b[0m\u001b[0;34m)\u001b[0m\u001b[0;34m\u001b[0m\u001b[0;34m\u001b[0m\u001b[0m\n\u001b[0;32m--> 242\u001b[0;31m         \u001b[0;32mraise\u001b[0m \u001b[0mexception_class\u001b[0m\u001b[0;34m(\u001b[0m\u001b[0mmessage\u001b[0m\u001b[0;34m,\u001b[0m \u001b[0mscreen\u001b[0m\u001b[0;34m,\u001b[0m \u001b[0mstacktrace\u001b[0m\u001b[0;34m)\u001b[0m\u001b[0;34m\u001b[0m\u001b[0;34m\u001b[0m\u001b[0m\n\u001b[0m\u001b[1;32m    243\u001b[0m \u001b[0;34m\u001b[0m\u001b[0m\n\u001b[1;32m    244\u001b[0m     \u001b[0;32mdef\u001b[0m \u001b[0m_value_or_default\u001b[0m\u001b[0;34m(\u001b[0m\u001b[0mself\u001b[0m\u001b[0;34m,\u001b[0m \u001b[0mobj\u001b[0m\u001b[0;34m,\u001b[0m \u001b[0mkey\u001b[0m\u001b[0;34m,\u001b[0m \u001b[0mdefault\u001b[0m\u001b[0;34m)\u001b[0m\u001b[0;34m:\u001b[0m\u001b[0;34m\u001b[0m\u001b[0;34m\u001b[0m\u001b[0m\n",
      "\u001b[0;31mInvalidSessionIdException\u001b[0m: Message: Tried to run command without establishing a connection\n"
     ]
    }
   ],
   "source": [
    "from instapy import InstaPy\n",
    "from instapy import smart_run\n",
    "\n",
    "# login credentials\n",
    "insta_username = 'gakachup'  # <- enter username here\n",
    "insta_password = 'vladison99'  # <- enter password here\n",
    "\n",
    "# get an InstaPy session!\n",
    "# set headless_browser=True to run InstaPy in the background\n",
    "session = InstaPy(username=insta_username,\n",
    "                  password=insta_password,\n",
    "                  headless_browser=True)\n",
    "\n",
    "with smart_run(session):\n",
    "    \"\"\" Activity flow \"\"\"\n",
    "    # general settings\n",
    "    session.set_relationship_bounds(enabled=True,\n",
    "                                    delimit_by_numbers=True,\n",
    "                                    max_followers=4590,\n",
    "                                    min_followers=45,\n",
    "                                    min_following=77)\n",
    "\n",
    "    session.set_dont_include([\"friend1\", \"friend2\", \"friend3\"])\n",
    "    session.set_dont_like([\"pizza\", \"#store\"])\n",
    "\n",
    "    # activity\n",
    "    session.like_by_tags([\"natgeo\"], amount=10)"
   ]
  }
 ],
 "metadata": {
  "kernelspec": {
   "display_name": "Python 3",
   "language": "python",
   "name": "python3"
  },
  "language_info": {
   "codemirror_mode": {
    "name": "ipython",
    "version": 3
   },
   "file_extension": ".py",
   "mimetype": "text/x-python",
   "name": "python",
   "nbconvert_exporter": "python",
   "pygments_lexer": "ipython3",
   "version": "3.6.8"
  }
 },
 "nbformat": 4,
 "nbformat_minor": 2
}
