{
 "cells": [
  {
   "cell_type": "code",
   "execution_count": 7,
   "metadata": {},
   "outputs": [
    {
     "name": "stderr",
     "output_type": "stream",
     "text": [
      "INFO [2019-11-30 02:31:22] [gakachup]  Workspace in use: \"/home/texnoman/InstaPy\"\n"
     ]
    },
    {
     "name": "stdout",
     "output_type": "stream",
     "text": [
      "InstaPy Version: 0.6.6\n",
      " ._.  ._.  ._.  ._.  ._.  ._.  ._.  ._.  ._.  ._.  ._.  ._.  ._.  ._.  ._.  ._.  ._. \n"
     ]
    },
    {
     "name": "stderr",
     "output_type": "stream",
     "text": [
      "INFO [2019-11-30 02:31:27] [gakachup]  Session started!\n"
     ]
    },
    {
     "name": "stdout",
     "output_type": "stream",
     "text": [
      "OOOOOOOOOOOOOOOOOOOOOOOOOOOOOOOOOOOOOOOOOOOOOOOOOOOOOO\n",
      "oooooooooooooooooooooooooooooooooooooooooooooooooooooo\n"
     ]
    }
   ],
   "source": [
    "from instapy import InstaPy\n",
    "from instapy import smart_run\n",
    "\n",
    "# login credentials\n",
    "insta_username = 'gakachup'  # <- enter username here\n",
    "insta_password = 'vladison99'  # <- enter password here\n",
    "\n",
    "# get an InstaPy session!\n",
    "# set headless_browser=True to run InstaPy in the background\n",
    "session = InstaPy(username=insta_username,\n",
    "                  password=insta_password,\n",
    "                  headless_browser=True)\n",
    "    "
   ]
  },
  {
   "cell_type": "code",
   "execution_count": 8,
   "metadata": {},
   "outputs": [
    {
     "name": "stderr",
     "output_type": "stream",
     "text": [
      "INFO [2019-11-30 02:31:36] [gakachup]  -- Connection Checklist [1/3] (Internet Connection Status)\n",
      "INFO [2019-11-30 02:31:37] [gakachup]  - Internet Connection Status: ok\n",
      "INFO [2019-11-30 02:31:37] [gakachup]  - Current IP is \"5.18.167.128\" and it's from \"Russian Federation/RU\"\n",
      "INFO [2019-11-30 02:31:37] [gakachup]  -- Connection Checklist [2/3] (Instagram Server Status)\n",
      "INFO [2019-11-30 02:31:42] [gakachup]  - Instagram WebSite Status: Currently Up \n",
      "INFO [2019-11-30 02:31:42] [gakachup]  - Instagram Response Time: 136.762 ms \n",
      "INFO [2019-11-30 02:31:42] [gakachup]  - Instagram Reponse Code: 200\n",
      "INFO [2019-11-30 02:31:42] [gakachup]  - Instagram Server Status: ok\n",
      "INFO [2019-11-30 02:31:42] [gakachup]  -- Connection Checklist [3/3] (Hide Selenium Extension)\n",
      "INFO [2019-11-30 02:31:42] [gakachup]  - window.navigator.webdriver response: False\n",
      "INFO [2019-11-30 02:31:42] [gakachup]  - Hide Selenium Extension: ok\n",
      "INFO [2019-11-30 02:31:52] [gakachup]  Logged in successfully!\n",
      "INFO [2019-11-30 02:31:52] [gakachup]  Saving account progress...\n"
     ]
    },
    {
     "name": "stdout",
     "output_type": "stream",
     "text": [
      "..............................................................\n",
      "''''''''''''''''''''''''''''''''''''''''''''''''''''''''''''''\n"
     ]
    },
    {
     "name": "stderr",
     "output_type": "stream",
     "text": [
      "INFO [2019-11-30 02:32:08] [gakachup]  Sessional Live Report:\n",
      "\t|> No any statistics to show\n",
      "\n",
      "On session start was FOLLOWING 21 users & had 3 FOLLOWERS\n",
      "[Session lasted 45.47 seconds]\n",
      "INFO [2019-11-30 02:32:08] [gakachup]  Session ended!\n"
     ]
    },
    {
     "name": "stdout",
     "output_type": "stream",
     "text": [
      "\n",
      "OOOOOOOOOOOOOOOOOOOOOOOOOOOOOOOOOOOOOOOOOOOOOOOOOOOOO\n",
      "ooooooooooooooooooooooooooooooooooooooooooooooooooooo\n",
      "\n",
      "\n",
      "\n"
     ]
    },
    {
     "ename": "NameError",
     "evalue": "name 'intial_hashtags_list' is not defined",
     "output_type": "error",
     "traceback": [
      "\u001b[0;31m---------------------------------------------------------------------------\u001b[0m",
      "\u001b[0;31mNameError\u001b[0m                                 Traceback (most recent call last)",
      "\u001b[0;32m<ipython-input-8-e882601b5ab2>\u001b[0m in \u001b[0;36m<module>\u001b[0;34m\u001b[0m\n\u001b[1;32m      9\u001b[0m \u001b[0;34m\u001b[0m\u001b[0m\n\u001b[1;32m     10\u001b[0m     \u001b[0minitial_hashtags_list\u001b[0m \u001b[0;34m=\u001b[0m \u001b[0;34m[\u001b[0m\u001b[0;34m'itmo'\u001b[0m \u001b[0;34m,\u001b[0m \u001b[0;34m'satoshinakamoto'\u001b[0m\u001b[0;34m,\u001b[0m \u001b[0;34m'cryptocurrency'\u001b[0m\u001b[0;34m,\u001b[0m \u001b[0;34m'painter'\u001b[0m\u001b[0;34m,\u001b[0m\u001b[0;34m'robot'\u001b[0m\u001b[0;34m]\u001b[0m\u001b[0;34m\u001b[0m\u001b[0;34m\u001b[0m\u001b[0m\n\u001b[0;32m---> 11\u001b[0;31m     \u001b[0msession\u001b[0m\u001b[0;34m.\u001b[0m\u001b[0mset_smart_hashtags\u001b[0m\u001b[0;34m(\u001b[0m\u001b[0mintial_hashtags_list\u001b[0m\u001b[0;34m,\u001b[0m \u001b[0mlimit\u001b[0m\u001b[0;34m=\u001b[0m\u001b[0;36m3\u001b[0m\u001b[0;34m,\u001b[0m \u001b[0msort\u001b[0m\u001b[0;34m=\u001b[0m\u001b[0;34m'top'\u001b[0m\u001b[0;34m,\u001b[0m \u001b[0mlog_tags\u001b[0m\u001b[0;34m=\u001b[0m\u001b[0;32mTrue\u001b[0m\u001b[0;34m)\u001b[0m\u001b[0;34m\u001b[0m\u001b[0;34m\u001b[0m\u001b[0m\n\u001b[0m",
      "\u001b[0;31mNameError\u001b[0m: name 'intial_hashtags_list' is not defined"
     ]
    }
   ],
   "source": [
    "with smart_run(session):\n",
    "    \"\"\" Activity flow \"\"\"\n",
    "    # general settings\n",
    "    session.set_relationship_bounds(enabled=True,\n",
    "                                    delimit_by_numbers=True,\n",
    "                                    max_followers=100000,\n",
    "                                    min_followers=45,\n",
    "                                    min_following=77)\n",
    "\n",
    "    initial_hashtags_list = ['itmo' , 'satoshinakamoto', 'cryptocurrency', 'painter','robot']\n",
    "    session.set_smart_hashtags(intial_hashtags_list, limit=3, sort='top', log_tags=True)"
   ]
  }
 ],
 "metadata": {
  "kernelspec": {
   "display_name": "Python 3",
   "language": "python",
   "name": "python3"
  },
  "language_info": {
   "codemirror_mode": {
    "name": "ipython",
    "version": 3
   },
   "file_extension": ".py",
   "mimetype": "text/x-python",
   "name": "python",
   "nbconvert_exporter": "python",
   "pygments_lexer": "ipython3",
   "version": "3.6.8"
  }
 },
 "nbformat": 4,
 "nbformat_minor": 2
}
